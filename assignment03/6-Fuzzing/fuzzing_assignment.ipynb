{
 "cells": [
  {
   "cell_type": "raw",
   "id": "7d1f5ff4e40c03b5",
   "metadata": {},
   "source": [
    "# Effective Software Testing - Fuzzing Assignment\n",
    "Both the description and the solution of this assignment will take place in this interactive jupyter notebook. Your deliverable should contain\n",
    "- a `fuzzing_assignment.ipynb`, which will be the edited version of this file that will contain your solution.\n",
    "- an `assignment_utils.py` that we provide you and holds helper classes for the assignment. Generally speaking, you should not edit this file, but see below for details.\n",
    "\n",
    "The assignment *can* be solved only by filling in the cells where there is the comment \"# Your code here\", **but**, many solutions exist, and it is possible that some of them involve editing other cells of even the `assignment_utils.py`. The comments (\"# Your code here\") are **optional**, and they just indicate an exemplary solution that we will make available to you after the deadline. Feel free to edit any other cell, file, or even install new packages (in which case you must submit them in a comment at the beginning). Finally, any comments, documentation, or other remarks in natural language should take place inside this notebook, in a markdown cell.\n",
    "\n",
    "For any question about the assignment, feel free to reach out to `konstantinos.kitsios@uzh.ch`.\n",
    "\n",
    "Read below for more, and good luck!"
   ]
  },
  {
   "cell_type": "markdown",
   "id": "959d7d20-bc4d-4a5e-97e2-4e95272d26f9",
   "metadata": {},
   "source": [
    "# Installation\n",
    "Python 3.9 is required for this assignment.\n",
    "To install the required packages, create a new `pip` virtual environment and install the required libraries by running\n",
    "```\n",
    "pip install -r requirements.txt\n",
    "```\n",
    "\n",
    "If you encounter issues with the python version or the installation of requirements.txt, please reach out to `konstantinos.kitsios@uzh.ch`."
   ]
  },
  {
   "cell_type": "markdown",
   "id": "91e1e437-08a4-4ccf-81c9-d5b233201677",
   "metadata": {},
   "source": [
    "# Setup\n",
    "The first part of the notebook sets up the environment by implementing classes/functions we talked about during the lecture."
   ]
  },
  {
   "metadata": {
    "ExecuteTime": {
     "end_time": "2025-05-26T12:43:22.374934Z",
     "start_time": "2025-05-26T12:43:22.366472Z"
    }
   },
   "cell_type": "code",
   "source": [
    "from urllib.parse import urlparse\n",
    "import random\n",
    "import matplotlib.pyplot as plt\n",
    "from scipy.stats import mannwhitneyu\n",
    "import pickle\n",
    "import hashlib\n",
    "from typing import Tuple, List, Callable, Set, Any"
   ],
   "id": "db09bc380382d9e9",
   "outputs": [],
   "execution_count": 5
  },
  {
   "metadata": {},
   "cell_type": "raw",
   "source": "",
   "id": "fe39b4faf187e6f9",
   "outputs": null,
   "execution_count": null
  },
  {
   "cell_type": "code",
   "id": "ab3694e3-5ad0-4b3b-a088-d1ef8bf36989",
   "metadata": {
    "ExecuteTime": {
     "end_time": "2025-05-26T12:43:22.405505Z",
     "start_time": "2025-05-26T12:43:22.391273Z"
    }
   },
   "source": [
    "from assignment_utils import Fuzzer, Runner, FunctionRunner, FunctionCoverageRunner, Coverage, population_coverage, Location"
   ],
   "outputs": [],
   "execution_count": 6
  },
  {
   "cell_type": "markdown",
   "id": "203615fd-3160-4e4a-8462-9b7384e92f6e",
   "metadata": {},
   "source": [
    "Remember the `urlparse()` function from the lecture? We will use this again. You might also remember that it never crashes, even with invalid urls, so we will use the corresponding `urlparse_that_crashes()`, like we did in the lecture."
   ]
  },
  {
   "cell_type": "code",
   "id": "8714edfc-99da-494b-a092-3704e183b190",
   "metadata": {
    "ExecuteTime": {
     "end_time": "2025-05-26T12:43:22.451262Z",
     "start_time": "2025-05-26T12:43:22.436956Z"
    }
   },
   "source": [
    "url = \"https://uzh.ch\"\n",
    "urlparse(url)"
   ],
   "outputs": [
    {
     "data": {
      "text/plain": [
       "ParseResult(scheme='https', netloc='uzh.ch', path='', params='', query='', fragment='')"
      ]
     },
     "execution_count": 7,
     "metadata": {},
     "output_type": "execute_result"
    }
   ],
   "execution_count": 7
  },
  {
   "cell_type": "code",
   "id": "21d4e492-1c30-4eca-bbcb-cb4b296d4a76",
   "metadata": {
    "ExecuteTime": {
     "end_time": "2025-05-26T12:43:22.482209Z",
     "start_time": "2025-05-26T12:43:22.465854Z"
    }
   },
   "source": [
    "def urlparse_that_crashes(url: str) -> bool:\n",
    "    supported_schemes = [\"http\", \"https\"]\n",
    "    result = urlparse(url)\n",
    "    if result.scheme not in supported_schemes:\n",
    "        raise ValueError(\"Scheme must be one of \" + repr(supported_schemes))\n",
    "    if result.netloc == '':\n",
    "        raise ValueError(\"Host must be non-empty\")\n",
    "\n",
    "    return True"
   ],
   "outputs": [],
   "execution_count": 8
  },
  {
   "cell_type": "markdown",
   "id": "022bd685-e019-48ed-8a5d-a6abb3d652b5",
   "metadata": {},
   "source": [
    "Now, we will copy the code of the second live coding session we did in during the lecture. The code below implements the mutation part of a mutation-based blackbox fuzzer."
   ]
  },
  {
   "cell_type": "code",
   "id": "9c1058f5-8fc3-4070-9e54-1d04704a4ade",
   "metadata": {
    "ExecuteTime": {
     "end_time": "2025-05-26T12:43:22.528681Z",
     "start_time": "2025-05-26T12:43:22.515859Z"
    }
   },
   "source": [
    "def mutate(s, num_of_mutations = 1):\n",
    "    mutators = [delete_random, insert_random, flip_random]\n",
    "\n",
    "    for i in range(num_of_mutations):\n",
    "        mutator_ind = random.randint(0, 2)\n",
    "        selected_mutator = mutators[mutator_ind]\n",
    "        s = selected_mutator(s)\n",
    "\n",
    "    return s"
   ],
   "outputs": [],
   "execution_count": 9
  },
  {
   "cell_type": "code",
   "id": "356d4ff2-deed-4b17-8cd1-5743c5ad983f",
   "metadata": {
    "ExecuteTime": {
     "end_time": "2025-05-26T12:43:22.559631Z",
     "start_time": "2025-05-26T12:43:22.545273Z"
    }
   },
   "source": [
    "def delete_random(s):\n",
    "    pos_to_delete = random.randint(0, len(s) - 1)\n",
    "    return s[:pos_to_delete-1] + s[pos_to_delete:]"
   ],
   "outputs": [],
   "execution_count": 10
  },
  {
   "cell_type": "code",
   "id": "11b98101-f89d-4f12-88f3-4ff359690824",
   "metadata": {
    "ExecuteTime": {
     "end_time": "2025-05-26T12:43:22.605288Z",
     "start_time": "2025-05-26T12:43:22.591120Z"
    }
   },
   "source": [
    "def insert_random(s):\n",
    "    pos_to_insert = random.randint(0, len(s)-1)\n",
    "    char_to_insert = chr(random.randint(32, 64))\n",
    "    return s[:pos_to_insert-1] + char_to_insert + s[pos_to_insert-1:]"
   ],
   "outputs": [],
   "execution_count": 11
  },
  {
   "cell_type": "code",
   "id": "212a5878-6acb-4ad1-9e47-29202d0bb80d",
   "metadata": {
    "ExecuteTime": {
     "end_time": "2025-05-26T12:43:22.621028Z",
     "start_time": "2025-05-26T12:43:22.610953Z"
    }
   },
   "source": [
    "def flip_random(s):\n",
    "    pos_to_flip  = random.randint(0, len(s)-1)\n",
    "    byte_to_flip = ord(s[pos_to_flip]) # char --> byte\n",
    "    bit_to_flip  = 1 << random.randint(0, 6) # 0010000 or 100000\n",
    "    flipped_char = chr(byte_to_flip ^ bit_to_flip)\n",
    "\n",
    "    return s[:pos_to_flip] + flipped_char + s[pos_to_flip+1:]"
   ],
   "outputs": [],
   "execution_count": 12
  },
  {
   "cell_type": "markdown",
   "id": "c14d123e-872e-4aef-b33c-6087e5b981c6",
   "metadata": {},
   "source": [
    "To put the function `mutate()` in use, we will implement the mutation-based blackbox fuzzer in the `MutationBlackboxFuzzer` class as following. The base class `Fuzzer` is just a placeholder that you can find in `utils.py`."
   ]
  },
  {
   "cell_type": "code",
   "id": "2ea5035c-4de4-4c8f-a63b-65462a9110b8",
   "metadata": {
    "ExecuteTime": {
     "end_time": "2025-05-26T12:43:22.651491Z",
     "start_time": "2025-05-26T12:43:22.638199Z"
    }
   },
   "source": [
    "class MutationBlackboxFuzzer(Fuzzer):\n",
    "    \"\"\"Base class for mutational fuzzing\"\"\"\n",
    "\n",
    "    def __init__(self, seed: List[str],\n",
    "                 min_mutations: int = 2,\n",
    "                 max_mutations: int = 10) -> None:\n",
    "        \"\"\"Constructor.\n",
    "        `seed` - a list of (input) strings to mutate.\n",
    "        `min_mutations` - the minimum number of mutations to apply.\n",
    "        `max_mutations` - the maximum number of mutations to apply.\n",
    "        \"\"\"\n",
    "        self.seed = seed\n",
    "        self.min_mutations = min_mutations\n",
    "        self.max_mutations = max_mutations\n",
    "        self.reset()\n",
    "\n",
    "    def reset(self) -> None:\n",
    "        \"\"\"Set population to initial seed.\n",
    "        To be overloaded in subclasses.\"\"\"\n",
    "        self.population = self.seed\n",
    "        self.seed_index = 0\n",
    "\n",
    "\n",
    "    def mutate(self, inp: str) -> str:\n",
    "        return mutate(inp)\n",
    "\n",
    "    def create_candidate(self) -> str:\n",
    "        \"\"\"Create a new candidate by mutating a population member\"\"\"\n",
    "        candidate = random.choice(self.population)\n",
    "        trials = random.randint(self.min_mutations, self.max_mutations)\n",
    "        for i in range(trials):\n",
    "            candidate = self.mutate(candidate)\n",
    "        return candidate\n",
    "\n",
    "    def fuzz(self) -> str:\n",
    "        # If we did not return all the seeds, return the next seed. Only after we run \n",
    "        # out of seeds, we return a mutated version of the seed\n",
    "        if self.seed_index < len(self.seed):\n",
    "            # Still seeding\n",
    "            self.inp = self.seed[self.seed_index]\n",
    "            self.seed_index += 1\n",
    "        else:\n",
    "            # Mutating\n",
    "            self.inp = self.create_candidate()\n",
    "        return self.inp"
   ],
   "outputs": [],
   "execution_count": 13
  },
  {
   "cell_type": "code",
   "id": "853dc3d0-4bd7-402c-a3f0-503f7f75bf0c",
   "metadata": {
    "ExecuteTime": {
     "end_time": "2025-05-26T12:43:22.681679Z",
     "start_time": "2025-05-26T12:43:22.669682Z"
    }
   },
   "source": [
    "seed_input = \"http://www.google.com/search?q=fuzzing\"\n",
    "mutation_fuzzer = MutationBlackboxFuzzer(seed=[seed_input])"
   ],
   "outputs": [],
   "execution_count": 14
  },
  {
   "cell_type": "markdown",
   "id": "616c8d08-65d0-476d-ab1c-2aa962f7e973",
   "metadata": {},
   "source": [
    "Remember the `Runner` class we used in the lecture to measure the coverage achieved by a specific input. Instead of calling\n",
    "```python\n",
    "result = urlparse_that_crashes(\"https://uzh.ch\")\n",
    "```\n",
    "\n",
    "you can instead do\n",
    "```python\n",
    "http_runner = FunctionCoverageRunner(urlparse_that_crashes) # define the function here\n",
    "result, isCrash = http_runner.run(\"https://uzh.ch\") # define the input here\n",
    "```\n",
    "which also gives you access to the coverage achieved:\n",
    "```\n",
    "list(http_runner.coverage())\n",
    "```"
   ]
  },
  {
   "cell_type": "code",
   "id": "ad9f65ed-62d3-4f83-9fef-366e22fcee49",
   "metadata": {
    "ExecuteTime": {
     "end_time": "2025-05-26T12:43:22.713264Z",
     "start_time": "2025-05-26T12:43:22.702126Z"
    }
   },
   "source": [
    "http_runner = FunctionCoverageRunner(urlparse_that_crashes) # Only initialize it once per function!\n",
    "http_runner.run(\"https://foo.bar/\")\n",
    "\n",
    "len(list(http_runner.coverage()))"
   ],
   "outputs": [
    {
     "data": {
      "text/plain": [
       "50"
      ]
     },
     "execution_count": 15,
     "metadata": {},
     "output_type": "execute_result"
    }
   ],
   "execution_count": 15
  },
  {
   "cell_type": "markdown",
   "id": "e73ba22a-9279-4273-b278-c756bac51281",
   "metadata": {},
   "source": [
    "Putting it all together, we can now run our fuzzer with a single seed for 1000 trials and measure the number of covered lines  like this"
   ]
  },
  {
   "cell_type": "code",
   "id": "02b5522a-f428-42fa-9885-28135ad6aefe",
   "metadata": {
    "ExecuteTime": {
     "end_time": "2025-05-26T12:43:22.929367Z",
     "start_time": "2025-05-26T12:43:22.755160Z"
    }
   },
   "source": [
    "seed_input = \"https://uzh.ch\"\n",
    "mutation_fuzzer = MutationBlackboxFuzzer(seed=[seed_input])\n",
    "\n",
    "mutation_fuzzer.runs(http_runner, trials=1000)\n",
    "print(mutation_fuzzer.population)\n",
    "\n",
    "print(\"%d lines covered\" % len(http_runner.coverage()))"
   ],
   "outputs": [
    {
     "name": "stdout",
     "output_type": "stream",
     "text": [
      "['https://uzh.ch']\n",
      "42 lines covered\n"
     ]
    }
   ],
   "execution_count": 16
  },
  {
   "cell_type": "markdown",
   "id": "8ebf44ce-6863-48e0-9b9e-7be9551a3eb1",
   "metadata": {},
   "source": [
    "# Task 01 - Investigating the Effect of Starting Seeds\n",
    "In the above run, our fuzzer covers 40 lines using only one starting seed (\"https://uzh.ch\"). Your first task is to investigate the effect of the starting seed in fuzzer performance. We remind that fuzzer performance is usually measure by the achieved coverage of the fuzzer (higher coverage => higher probability of exposing bugs => better performance).\n",
    "\n",
    "Compare the coverage of the `MutationBlackboxFuzzer` with one seed vs ten seeds. The choice of the ten seeds is up to you, you can either handpick ten random urls, or write a small script that randomly navigates the web and returns ten urls for more diversity.\n",
    "\n",
    "Comparing the performance of two fuzzers (or the same fuzzer with different configurations in our case) is a nuanced topic due to the inherent randomness of fuzzing. For example, if we run the `MutationBlackboxFuzzer` with one seed and cover 40 lines, and then run it with ten seeds and cover 42 lines, can we claim that the more starting seeds the better? Probably not.\n",
    "To make claims based on empirical data, we have to run statistical tests. In fuzzing, typically each fuzzer configuration is ran for 30 runs of 10,000 trials (i.e., you run the above cell 30 times), yielding an array of 30 coverage values for each fuzzer. The two arrays are then compared using the Mann-Whitney U Test with the null hypothesis that the values of the first array (i.e., coverage of the first fuzzer) are greater than those of the second array. If the p-value of the test is <0.05, we reject the null hypothesis, claiming that the first fuzzer achieves less coverage than the second one (with confidence level 1-0.05 = 95%).\n",
    "You can run the Mann-Whitney U Test in python with the following code:\n",
    "```python\n",
    "from scipy.stats import mannwhitneyu\n",
    "u_stat, p_value = mannwhitneyu(c1, c2, alternative='less')\n",
    "if p_value < 0.05:\n",
    "    print(\"Values of c1 are smaller than those in c2 with confidence level 95%\")\n",
    "```"
   ]
  },
  {
   "cell_type": "code",
   "id": "bf2b7e79-2552-4dc7-bc43-d348249ec0dd",
   "metadata": {
    "ExecuteTime": {
     "end_time": "2025-05-26T12:43:40.415312Z",
     "start_time": "2025-05-26T12:43:22.947096Z"
    }
   },
   "source": [
    "# Your code here\n",
    "\n",
    "from scipy.stats import mannwhitneyu\n",
    "\n",
    "# Definition of the 10 starting seeds\n",
    "seeds = [\n",
    "    \"https://uzh.ch\",\n",
    "    \"https://ethz.ch\",\n",
    "    \"https://example.com\",\n",
    "    \"https://foo.bar\",\n",
    "    \"https://bar.baz\",\n",
    "    \"https://test.site\",\n",
    "    \"https://abc.def\",\n",
    "    \"https://random.url\",\n",
    "    \"https://another.test\",\n",
    "    \"https://yet.another\"\n",
    "]\n",
    "\n",
    "# We run the fuzzer for each seed and collect coverage results\n",
    "coverage_results = []\n",
    "\n",
    "for seed_input in seeds: # For every seed, we do a run with 10000 trials\n",
    "    mutation_fuzzer = MutationBlackboxFuzzer(seed=[seed_input]) # We create a new fuzzer\n",
    "    mutation_fuzzer.runs(http_runner, trials=10000)  # We do 10000 trials\n",
    "    covered_lines = len(list(http_runner.coverage()))\n",
    "    coverage_results.append(covered_lines)\n",
    "\n",
    "# Print the coverage results for the 10 URLs\n",
    "print(\"Coverage results for each seed:\")\n",
    "for seed, coverage in zip(seeds, coverage_results):\n",
    "    print(f\"{seed}: {coverage} lines covered\")\n",
    "\n",
    "\n",
    "# Split into two groups: first 5 seeds and last 5 seeds\n",
    "group1 = coverage_results[:5]\n",
    "group2 = coverage_results[5:]\n",
    "\n",
    "# Perform the Mann-Whitney U test\n",
    "u_stat, p_value = mannwhitneyu(group1, group2, alternative='less')\n",
    "\n",
    "# Print results from Mann-Whitney U test\n",
    "print(\"\\nMann-Whitney U Test Result:\")\n",
    "print(f\"U-statistic: {u_stat}\")\n",
    "print(f\"P-value: {p_value}\")\n",
    "\n",
    "if p_value < 0.05:\n",
    "    print(\"Values of group 1 are smaller than those in group 2 with 95% confidence.\")\n",
    "else:\n",
    "    print(\"No significant difference detected between the two groups.\")\n"
   ],
   "outputs": [
    {
     "name": "stdout",
     "output_type": "stream",
     "text": [
      "Coverage results for each seed:\n",
      "https://uzh.ch: 39 lines covered\n",
      "https://ethz.ch: 46 lines covered\n",
      "https://example.com: 50 lines covered\n",
      "https://foo.bar: 43 lines covered\n",
      "https://bar.baz: 50 lines covered\n",
      "https://test.site: 39 lines covered\n",
      "https://abc.def: 40 lines covered\n",
      "https://random.url: 43 lines covered\n",
      "https://another.test: 42 lines covered\n",
      "https://yet.another: 43 lines covered\n",
      "\n",
      "Mann-Whitney U Test Result:\n",
      "U-statistic: 19.5\n",
      "P-value: 0.944753987972166\n",
      "No significant difference detected between the two groups.\n"
     ]
    }
   ],
   "execution_count": 17
  },
  {
   "cell_type": "markdown",
   "id": "dd49afa2-546e-47c7-b1f9-d842669447b1",
   "metadata": {},
   "source": [
    "# Task 02: Investigating the Effect of More Sophisticated Mutations\n",
    "The mutation function we implemented above (and in the lecture) is:\n",
    "```python\n",
    "def mutate(s, num_of_mutations = 1):\n",
    "    mutators = [delete_random, insert_random, flip_random]\n",
    "\n",
    "    for i in range(num_of_mutations):\n",
    "        mutator_ind = random.randint(0, 2)\n",
    "        selected_mutator = mutators[mutator_ind]\n",
    "        s = selected_mutator(s)\n",
    "\n",
    "    return s\n",
    "```\n",
    "\n",
    "Your task is to implement a more sophisticated mutation strategy by:\n",
    "1. Extending the `mutate(s, num_of_mutations = 1)` function above to support three more mutators\n",
    "    - Addition of small integers to a random byte\n",
    "    - Replacing a random byte with a completely random byte value\n",
    "    - Block duplucation (insert a random block of characters of `s` in a random position of `s`)\n",
    "2. Extending the `mutate(self, s)` method of `MutationBlackboxFuzzer` so that with probability `p` it calls the `mutate(s, num_of_mutations = 1)` function above and with probability `1-p` mutates the input using **splicing**; Splicing (a.k.a, crossover) refers to selecting another seed from the existing population, and merging a random block of the new seed with the current seed at a random position.\n",
    "\n",
    "Compare the performance of your new fuzzer with the previous fuzzer over 30 runs of 5000 trials each. Use a single starting seed `s=[\"https://www.swissinfo.ch\"]`. What can you claim about the effect of more complex mutations?\n",
    "\n",
    "Note: For more information about the exact mutations used in the most popular fuzzer, AFL, you can have a look at this blog by the AFL creator: https://lcamtuf.blogspot.com/2014/08/binary-fuzzing-strategies-what-works.html"
   ]
  },
  {
   "cell_type": "code",
   "id": "5fcdcd89-52c1-47fe-9e65-52aac62b2f8c",
   "metadata": {
    "scrolled": true,
    "ExecuteTime": {
     "end_time": "2025-05-26T12:44:25.820010Z",
     "start_time": "2025-05-26T12:43:40.487901Z"
    }
   },
   "source": [
    "# Your code here\n",
    "\n",
    "def add_small_int(s):\n",
    "    if len(s) == 0:\n",
    "        return s\n",
    "    pos = random.randint(0, len(s) - 1)\n",
    "    orig_char = s[pos]\n",
    "    new_char = chr((ord(orig_char) + random.randint(1, 10)) % 256)\n",
    "    return s[:pos] + new_char + s[pos + 1:]\n",
    "    \n",
    "def replace_random(s):\n",
    "    if len(s) == 0:\n",
    "        return s\n",
    "    pos = random.randint(0, len(s) - 1)\n",
    "    new_char = chr(random.randint(0, 255))\n",
    "    return s[:pos] + new_char + s[pos + 1:]\n",
    "\n",
    "def block_duplicate(s):\n",
    "    if len(s) < 2:\n",
    "        return s\n",
    "    start = random.randint(0, len(s) - 2)\n",
    "    end = random.randint(start + 1, len(s))\n",
    "    block = s[start:end]\n",
    "    insert_pos = random.randint(0, len(s))\n",
    "    return s[:insert_pos] + block + s[insert_pos:]\n",
    "\n",
    "def mutate(s, num_of_mutations = 1):\n",
    "    mutators = [delete_random, insert_random, flip_random, add_small_int, replace_random, block_duplicate]\n",
    "\n",
    "    for i in range(num_of_mutations):\n",
    "        mutator_ind = random.randint(0, 5)\n",
    "        selected_mutator = mutators[mutator_ind]\n",
    "        s = selected_mutator(s)\n",
    "\n",
    "    return s\n",
    "\n",
    "class MutationBlackboxFuzzer2(MutationBlackboxFuzzer):\n",
    "    def __init__(self, seed, min_mutations=2, max_mutations=10, p=0.5):\n",
    "        super().__init__(seed, min_mutations, max_mutations)\n",
    "        self.p = p  # Probability of using standard mutation\n",
    "\n",
    "    def mutate(self, s: str) -> str:\n",
    "        if random.random() < self.p:\n",
    "            # Standard mutation\n",
    "            return mutate(s, num_of_mutations=1)\n",
    "        else:\n",
    "            # Splicing mutation\n",
    "            if not self.population:\n",
    "                return s  # fallback\n",
    "\n",
    "            other = random.choice(self.population)\n",
    "            if len(other) < 2:\n",
    "                return s  # Not enough to splice from\n",
    "\n",
    "            start = random.randint(0, len(other) - 2)\n",
    "            end = random.randint(start + 1, len(other))\n",
    "            block = other[start:end]\n",
    "\n",
    "            insert_pos = random.randint(0, len(s))\n",
    "            return s[:insert_pos] + block + s[insert_pos:]\n",
    "\n",
    "# Test\n",
    "import random\n",
    "from scipy.stats import mannwhitneyu\n",
    "\n",
    "# setup\n",
    "seed = [\"https://www.swissinfo.ch\"]\n",
    "runs = 30\n",
    "trials = 5000\n",
    "\n",
    "coverage_1 = []\n",
    "coverage_2 = []\n",
    "\n",
    "# Run both fuzzers\n",
    "for i in range(runs):\n",
    "    # Old fuzzer\n",
    "    fuzzer1 = MutationBlackboxFuzzer(seed=[seed_input])\n",
    "    fuzzer1.runs(http_runner, trials=trials)\n",
    "    coverage_1.append(len(http_runner.coverage()))\n",
    "\n",
    "    # New fuzzer\n",
    "    fuzzer2 = MutationBlackboxFuzzer2(seed=[seed_input], p=0.5)\n",
    "    fuzzer2.runs(http_runner, trials=trials)\n",
    "    coverage_2.append(len(http_runner.coverage()))\n",
    "\n",
    "u_stat, p_value = mannwhitneyu(coverage_1, coverage_2, alternative='less')\n",
    "\n",
    "print(\"Old Fuzzer Coverage (avg):\", sum(coverage_1) / len(coverage_1))\n",
    "print(\"New Fuzzer Coverage (avg):\", sum(coverage_2) / len(coverage_2))\n",
    "print(\"\\nMann-Whitney U Test:\")\n",
    "print(\"U statistic:\", u_stat)\n",
    "print(\"p-value:\", p_value)\n",
    "\n",
    "if p_value < 0.05:\n",
    "    print(\"Fuzzer2 performs significantly better.\")\n",
    "else:\n",
    "    print(\"No significant difference detected.\")\n",
    "\n"
   ],
   "outputs": [
    {
     "name": "stdout",
     "output_type": "stream",
     "text": [
      "Old Fuzzer Coverage (avg): 43.5\n",
      "New Fuzzer Coverage (avg): 48.2\n",
      "\n",
      "Mann-Whitney U Test:\n",
      "U statistic: 217.5\n",
      "p-value: 0.00020402968952283\n",
      "Fuzzer2 performs significantly better.\n"
     ]
    }
   ],
   "execution_count": 18
  },
  {
   "cell_type": "markdown",
   "id": "beaf9f60-cfbe-49b2-b3b8-7ce37d5302e4",
   "metadata": {},
   "source": [
    "# Task 03: Compare With Mutation-Based Greybox Fuzzer\n",
    "To improve on the blackbox fuzzer in the lecture, we implemented the greybox fuzzer below, that dynamically adds a mutated input to the seeds queue if that input covers a new path. \n",
    "\n",
    "Your task is to compare the performance of the (already implemented) greybox fuzzer with that of the blackbox fuzzer over 30 runs of 5000 trials each.\n",
    "Use the same single starting seed as the previous experiment.\n",
    "\n",
    "What can you claim about the performance of they greybox fuzzer?"
   ]
  },
  {
   "cell_type": "code",
   "id": "1ff1e736-c452-4669-8e19-7d6549aa3b8f",
   "metadata": {
    "ExecuteTime": {
     "end_time": "2025-05-26T12:44:25.867251Z",
     "start_time": "2025-05-26T12:44:25.846845Z"
    }
   },
   "source": [
    "class MutationGreyboxFuzzer(MutationBlackboxFuzzer):\n",
    "    \"\"\"Fuzz with mutated inputs based on coverage\"\"\"\n",
    "\n",
    "    def reset(self) -> None:\n",
    "        super().reset()\n",
    "        self.coverages_seen: Set[frozenset] = set()\n",
    "        # Now empty; we fill this with seed in the first fuzz runs\n",
    "        self.population = []\n",
    "\n",
    "    def run(self, runner: FunctionCoverageRunner) -> Any:\n",
    "        \"\"\"Run function(inp) while tracking coverage.\n",
    "           If we reach new coverage,\n",
    "           add inp to population and its coverage to population_coverage\n",
    "        \"\"\"\n",
    "        result, outcome = super().run(runner)\n",
    "        new_coverage = frozenset(runner.coverage())\n",
    "        if outcome == Runner.PASS and new_coverage not in self.coverages_seen:\n",
    "            # We have new coverage\n",
    "            self.population.append(self.inp)\n",
    "            self.coverages_seen.add(new_coverage)\n",
    "\n",
    "        return result"
   ],
   "outputs": [],
   "execution_count": 19
  },
  {
   "cell_type": "code",
   "id": "693dd205-2572-4e03-8cf0-5dec2ca4a533",
   "metadata": {
    "ExecuteTime": {
     "end_time": "2025-05-26T12:45:07.495646Z",
     "start_time": "2025-05-26T12:44:25.932353Z"
    }
   },
   "source": [
    "# Your code here\n",
    "\n",
    "# Test\n",
    "import random\n",
    "from scipy.stats import mannwhitneyu\n",
    "\n",
    "# setup\n",
    "seed = [\"https://www.swissinfo.ch\"]\n",
    "runs = 30\n",
    "trials = 5000\n",
    "\n",
    "coverage_blackbox = []\n",
    "coverage_greybox = []\n",
    "\n",
    "# Run both fuzzers\n",
    "for i in range(runs):\n",
    "    # Blackbox fuzzer\n",
    "    fuzzer_blackbox = MutationBlackboxFuzzer(seed=[seed_input])\n",
    "    fuzzer_blackbox.runs(http_runner, trials=trials)\n",
    "    coverage_blackbox.append(len(http_runner.coverage()))\n",
    "\n",
    "    # Greybox fuzzer\n",
    "    fuzzer_greybox = MutationGreyboxFuzzer(seed=[seed_input])\n",
    "    fuzzer_greybox.runs(http_runner, trials=trials)\n",
    "    coverage_greybox.append(len(http_runner.coverage()))\n",
    "\n",
    "u_stat, p_value = mannwhitneyu(coverage_blackbox, coverage_greybox, alternative='less')\n",
    "\n",
    "print(\"Blackbox Fuzzer Coverage (avg):\", sum(coverage_blackbox) / len(coverage_blackbox))\n",
    "print(\"Greybox Fuzzer Coverage (avg):\", sum(coverage_greybox) / len(coverage_greybox))\n",
    "print(\"\\nMann-Whitney U Test:\")\n",
    "print(\"U statistic:\", u_stat)\n",
    "print(\"p-value:\", p_value)\n",
    "\n",
    "if p_value < 0.05:\n",
    "    print(\"Greybox performs significantly better.\")\n",
    "else:\n",
    "    print(\"No significant difference detected.\")\n",
    "\n"
   ],
   "outputs": [
    {
     "name": "stdout",
     "output_type": "stream",
     "text": [
      "Blackbox Fuzzer Coverage (avg): 44.06666666666667\n",
      "Greybox Fuzzer Coverage (avg): 54.766666666666666\n",
      "\n",
      "Mann-Whitney U Test:\n",
      "U statistic: 102.5\n",
      "p-value: 1.3020656552619943e-07\n",
      "Greybox performs significantly better.\n"
     ]
    }
   ],
   "execution_count": 20
  },
  {
   "cell_type": "markdown",
   "id": "b03a9770-2aa2-4181-bbd5-dab021fb7562",
   "metadata": {},
   "source": [
    "# Task 04: Boosted Greybox Fuzzer\n",
    "In page 30 of the lecture materials, we discussed about boosting the performance of greybox fuzzers by prioritizing seeds that exercise more rare paths. Your task is to implement this into a class named `BoostedMutationGreyboxFuzzer` and compare its performance against the `MutationGreyboxFuzzer`.\n",
    "\n",
    "Specifically, you must calculate the coverage achieved for each input you feed into the program-under-test, and keep track of how frequently a specific coverage is triggered (hint: you may find the function `getPathID()` below useful for this). \n",
    "\n",
    "Then, when selecting the next seed to mutate, you must select with probability reversly proportional to the frequency of the coverage of each seed. As a result, seeds that exercise rarer paths will be selected more frequently.\n",
    "\n",
    "Compare the performance of your new `BoostedMutationGreyboxFuzzer` with the base `MutationGreyboxFuzzer` in two target programs:\n",
    "1. On the `urlparse_that_crashes()` program using 30 runs of 5,000 trials each and the same single starting seed as above.\n",
    "2. On the `crashme()` program found below, 30 runs of using 10,000 trials and a single starting seed `s=[\"good\"]`."
   ]
  },
  {
   "cell_type": "code",
   "id": "295e0313-9e0a-49f3-aa06-7cb4f37bf45a",
   "metadata": {
    "ExecuteTime": {
     "end_time": "2025-05-26T12:45:07.587840Z",
     "start_time": "2025-05-26T12:45:07.574989Z"
    }
   },
   "source": [
    "def getPathID(coverage: Any) -> str:\n",
    "    \"\"\"Returns a unique hash for the covered statements\"\"\"\n",
    "    pickled = pickle.dumps(sorted(coverage))\n",
    "    return hashlib.md5(pickled).hexdigest()"
   ],
   "outputs": [],
   "execution_count": 21
  },
  {
   "cell_type": "code",
   "id": "86d9d5bf-1b2e-45bd-9299-e31d68e9f028",
   "metadata": {
    "ExecuteTime": {
     "end_time": "2025-05-26T12:45:07.618749Z",
     "start_time": "2025-05-26T12:45:07.604930Z"
    }
   },
   "source": [
    "def crashme(s: str) -> None:\n",
    "    if len(s) > 0 and s[0] == 'b':\n",
    "        if len(s) > 1 and s[1] == 'a':\n",
    "            if len(s) > 2 and s[2] == 'd':\n",
    "                if len(s) > 3 and s[3] == '!':\n",
    "                    raise Exception()"
   ],
   "outputs": [],
   "execution_count": 22
  },
  {
   "cell_type": "code",
   "id": "81838b3c-8146-48d3-ae85-aa472a469600",
   "metadata": {
    "ExecuteTime": {
     "end_time": "2025-05-26T12:45:07.648737Z",
     "start_time": "2025-05-26T12:45:07.636576Z"
    }
   },
   "source": [
    "class BoostedMutationGreyboxFuzzer(MutationBlackboxFuzzer):\n",
    "    \"\"\"Fuzz with mutated inputs based on coverage\"\"\"\n",
    "\n",
    "    def reset(self) -> None:\n",
    "        super().reset()\n",
    "        self.coverages_seen: Set[frozenset] = set()\n",
    "        # Now empty; we fill this with seed in the first fuzz runs\n",
    "        self.population = []\n",
    "        super().reset()\n",
    "        self.path_frequencies = {}  # Dictionary to track path frequencies\n",
    "\n",
    "    def run(self, runner: FunctionCoverageRunner) -> Any:\n",
    "        result, outcome = super().run(runner)\n",
    "        new_coverage = frozenset(runner.coverage())\n",
    "        path_id = getPathID(new_coverage)\n",
    "\n",
    "        # Update path frequency\n",
    "        if path_id not in self.path_frequencies:\n",
    "            self.path_frequencies[path_id] = 0\n",
    "        self.path_frequencies[path_id] += 1\n",
    "\n",
    "        return result\n",
    "\n",
    "    def create_candidate(self) -> str:\n",
    "        if not self.population:\n",
    "            return super().create_candidate()\n",
    "\n",
    "        # Calculate selection probabilities\n",
    "        weights = []\n",
    "        for seed in self.population:\n",
    "            runner = FunctionCoverageRunner(lambda x: None)  # Dummy runner\n",
    "            runner.run(seed)\n",
    "            path_id = getPathID(frozenset(runner.coverage()))\n",
    "            frequency = self.path_frequencies.get(path_id, 1)\n",
    "            weights.append(1 / frequency)\n",
    "\n",
    "        # Normalize weights\n",
    "        total_weight = sum(weights)\n",
    "        probabilities = [w / total_weight for w in weights]\n",
    "\n",
    "        # Select a seed based on probabilities\n",
    "        selected_seed = random.choices(self.population, weights=probabilities, k=1)[0]\n",
    "\n",
    "        # Mutate the selected seed\n",
    "        return self.mutate(selected_seed)"
   ],
   "outputs": [],
   "execution_count": 23
  },
  {
   "cell_type": "code",
   "id": "f248cf77-9bda-46f2-b27e-31cd284f31d6",
   "metadata": {
    "ExecuteTime": {
     "end_time": "2025-05-26T12:46:22.128811Z",
     "start_time": "2025-05-26T12:45:07.681806Z"
    }
   },
   "source": [
    "import random\n",
    "from scipy.stats import mannwhitneyu\n",
    "\n",
    "# Function to compare two fuzzers\n",
    "def compare_fuzzers(fuzzer1_class, fuzzer2_class, runner, seed, trials, runs):\n",
    "    coverage_fuzzer1 = []\n",
    "    coverage_fuzzer2 = []\n",
    "\n",
    "    for _ in range(runs):\n",
    "        # Run fuzzer 1\n",
    "        fuzzer1 = fuzzer1_class(seed=[seed])\n",
    "        fuzzer1.runs(runner, trials=trials)\n",
    "        coverage_fuzzer1.append(len(runner.coverage()))\n",
    "\n",
    "        # Run fuzzer 2\n",
    "        fuzzer2 = fuzzer2_class(seed=[seed])\n",
    "        fuzzer2.runs(runner, trials=trials)\n",
    "        coverage_fuzzer2.append(len(runner.coverage()))\n",
    "\n",
    "    # Perform Mann-Whitney U Test\n",
    "    u_stat, p_value = mannwhitneyu(coverage_fuzzer1, coverage_fuzzer2, alternative='less')\n",
    "\n",
    "    # Print results\n",
    "    print(f\"Fuzzer 1 (avg coverage): {sum(coverage_fuzzer1) / len(coverage_fuzzer1)}\")\n",
    "    print(f\"Fuzzer 2 (avg coverage): {sum(coverage_fuzzer2) / len(coverage_fuzzer2)}\")\n",
    "    print(f\"Mann-Whitney U Test: U-statistic={u_stat}, p-value={p_value}\")\n",
    "    if p_value < 0.05:\n",
    "        print(\"Fuzzer 2 performs significantly better.\")\n",
    "    else:\n",
    "        print(\"No significant difference detected.\")\n",
    "\n",
    "# Target 1: urlparse_that_crashes()\n",
    "print(\"Comparing on urlparse_that_crashes()\")\n",
    "url_runner = FunctionCoverageRunner(urlparse_that_crashes)\n",
    "compare_fuzzers(\n",
    "    MutationGreyboxFuzzer,\n",
    "    BoostedMutationGreyboxFuzzer,\n",
    "    url_runner,\n",
    "    seed=\"https://uzh.ch\",\n",
    "    trials=5000,\n",
    "    runs=30\n",
    ")\n",
    "\n",
    "# Target 2: crashme()\n",
    "print(\"\\nComparing on crashme()\")\n",
    "crashme_runner = FunctionCoverageRunner(crashme)\n",
    "compare_fuzzers(\n",
    "    MutationGreyboxFuzzer,\n",
    "    BoostedMutationGreyboxFuzzer,\n",
    "    crashme_runner,\n",
    "    seed=\"good\",\n",
    "    trials=10000,\n",
    "    runs=30\n",
    ")"
   ],
   "outputs": [
    {
     "name": "stdout",
     "output_type": "stream",
     "text": [
      "Comparing on urlparse_that_crashes()\n",
      "Fuzzer 1 (avg coverage): 51.93333333333333\n",
      "Fuzzer 2 (avg coverage): 47.333333333333336\n",
      "Mann-Whitney U Test: U-statistic=586.5, p-value=0.9789604516774981\n",
      "No significant difference detected.\n",
      "\n",
      "Comparing on crashme()\n",
      "Fuzzer 1 (avg coverage): 2.6333333333333333\n",
      "Fuzzer 2 (avg coverage): 2.0\n",
      "Mann-Whitney U Test: U-statistic=615.0, p-value=0.9998578683768669\n",
      "No significant difference detected.\n"
     ]
    }
   ],
   "execution_count": 24
  },
  {
   "metadata": {},
   "cell_type": "markdown",
   "source": [
    "# Remark\n",
    "For Task 04, we used GitHub Copilot to assist in developing a functioning implementation of the BoostedMutationGreyboxFuzzer class. The AI tool was used to support and accelerate the coding process, but the final implementation was reviewed and adapted to fit the specific requirements of the task."
   ],
   "id": "d880876f5c933500"
  }
 ],
 "metadata": {
  "kernelspec": {
   "display_name": "base",
   "language": "python",
   "name": "python3"
  },
  "language_info": {
   "codemirror_mode": {
    "name": "ipython",
    "version": 3
   },
   "file_extension": ".py",
   "mimetype": "text/x-python",
   "name": "python",
   "nbconvert_exporter": "python",
   "pygments_lexer": "ipython3",
   "version": "3.12.4"
  }
 },
 "nbformat": 4,
 "nbformat_minor": 5
}
